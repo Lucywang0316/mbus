{
 "cells": [
  {
   "cell_type": "code",
   "execution_count": 1,
   "metadata": {},
   "outputs": [],
   "source": [
    "import requests"
   ]
  },
  {
   "cell_type": "code",
   "execution_count": 2,
   "metadata": {},
   "outputs": [],
   "source": [
    "# setup\n",
    "BASE_URL = \"https://mbus.ltp.umich.edu/bustime/api/v3\"\n",
    "API_KEY = \"EjapRzEBW2vNVWpeqss3r6BJZ\""
   ]
  },
  {
   "cell_type": "code",
   "execution_count": 3,
   "metadata": {},
   "outputs": [],
   "source": [
    "# get all Blue Bus routes\n",
    "\n",
    "res = requests.get(\n",
    "    f\"{BASE_URL}/getroutes?key={API_KEY}&format=json\"\n",
    ")\n"
   ]
  },
  {
   "cell_type": "code",
   "execution_count": 4,
   "metadata": {},
   "outputs": [
    {
     "name": "stdout",
     "output_type": "stream",
     "text": [
      "200\n"
     ]
    },
    {
     "data": {
      "text/plain": [
       "True"
      ]
     },
     "execution_count": 4,
     "metadata": {},
     "output_type": "execute_result"
    }
   ],
   "source": [
    "print(res.status_code)\n",
    "# 200 is OK\n",
    "# 302 is redirect (still ok)\n",
    "# Anythingn else is error\n",
    "# Can also use this:\n",
    "res.ok"
   ]
  },
  {
   "cell_type": "code",
   "execution_count": 5,
   "metadata": {},
   "outputs": [
    {
     "data": {
      "text/plain": [
       "'BB'"
      ]
     },
     "execution_count": 5,
     "metadata": {},
     "output_type": "execute_result"
    }
   ],
   "source": [
    "# Get id of bus route\n",
    "rt = res.json()['bustime-response']['routes'][0]['rt']\n",
    "rt"
   ]
  },
  {
   "cell_type": "code",
   "execution_count": 6,
   "metadata": {},
   "outputs": [
    {
     "data": {
      "text/plain": [
       "{'bustime-response': {'directions': [{'id': 'NORTHBOUND',\n",
       "    'name': 'NORTHBOUND'},\n",
       "   {'id': 'SOUTHBOUND', 'name': 'SOUTHBOUND'}]}}"
      ]
     },
     "execution_count": 6,
     "metadata": {},
     "output_type": "execute_result"
    }
   ],
   "source": [
    "# Get direction for bus route\n",
    "res = requests.get(\n",
    "    f\"{BASE_URL}/getdirections?key={API_KEY}&format=json&rt={rt}\"\n",
    ")\n",
    "res.json()"
   ]
  },
  {
   "cell_type": "code",
   "execution_count": 7,
   "metadata": {},
   "outputs": [],
   "source": [
    "# Get stops using bus route and direction\n",
    "res = requests.get(\n",
    "    f\"{BASE_URL}/getstops?key={API_KEY}&format=json&rt={rt}&dir=SOUTHBOUND\"\n",
    ")"
   ]
  },
  {
   "cell_type": "code",
   "execution_count": 8,
   "metadata": {},
   "outputs": [
    {
     "data": {
      "text/plain": [
       "[{'stpid': 'N411',\n",
       "  'stpnm': 'Baits I',\n",
       "  'lat': 42.291591999999,\n",
       "  'lon': -83.723237},\n",
       " {'stpid': 'N409',\n",
       "  'stpnm': 'Baits II Inbound',\n",
       "  'lat': 42.29412,\n",
       "  'lon': -83.724156999999},\n",
       " {'stpid': 'N407',\n",
       "  'stpnm': 'Bursley Hall Inbound',\n",
       "  'lat': 42.294595999999,\n",
       "  'lon': -83.72071},\n",
       " {'stpid': 'C250',\n",
       "  'stpnm': 'Central Campus Transit Center: Chemistry',\n",
       "  'lat': 42.277682,\n",
       "  'lon': -83.734936},\n",
       " {'stpid': 'N450',\n",
       "  'stpnm': 'Fuller Rd at Lot NC-78  Mitchell Field (1)',\n",
       "  'lat': 42.287278,\n",
       "  'lon': -83.722242}]"
      ]
     },
     "execution_count": 8,
     "metadata": {},
     "output_type": "execute_result"
    }
   ],
   "source": [
    "# Get list of bus stops for BB\n",
    "res.json()['bustime-response']['stops'][:5]"
   ]
  },
  {
   "cell_type": "code",
   "execution_count": 9,
   "metadata": {},
   "outputs": [
    {
     "data": {
      "text/plain": [
       "{'tmstmp': '20231120 14:25',\n",
       " 'typ': 'D',\n",
       " 'stpnm': 'Central Campus Transit Center: Chemistry',\n",
       " 'stpid': 'C250',\n",
       " 'vid': '3065',\n",
       " 'dstp': -13,\n",
       " 'rt': 'BB',\n",
       " 'rtdd': 'BB',\n",
       " 'rtdir': 'NORTHBOUND',\n",
       " 'des': 'Baits I',\n",
       " 'prdtm': '20231120 14:27',\n",
       " 'tablockid': '252NWE',\n",
       " 'tatripid': '484281',\n",
       " 'origtatripno': '484281',\n",
       " 'dly': False,\n",
       " 'dyn': 0,\n",
       " 'prdctdn': 'DUE',\n",
       " 'zone': '',\n",
       " 'psgld': '',\n",
       " 'stst': 52020,\n",
       " 'stsd': '2023-11-20',\n",
       " 'flagstop': 0}"
      ]
     },
     "execution_count": 9,
     "metadata": {},
     "output_type": "execute_result"
    }
   ],
   "source": [
    "# Get prediction for bus arrival at CCTC for BB (Southbound)\n",
    "res = requests.get(\n",
    "    f\"{BASE_URL}/getpredictions?key={API_KEY}&format=json&rt=BB&stpid=C250\"\n",
    ")\n",
    "res.json()['bustime-response']['prd'][0]"
   ]
  },
  {
   "cell_type": "code",
   "execution_count": null,
   "metadata": {},
   "outputs": [],
   "source": [
    "class Node:\n",
    "    def __init__(self):\n",
    "        self.children = []\n",
    "    \n",
    "    def add_child(self, child):\n",
    "        self.children.append(child)\n",
    "\n",
    "class BusRoute:\n",
    "    def __init__(self, route_id, route_name):\n",
    "        self.route_id = route_id\n",
    "        self.route_name = route_name\n",
    "\n",
    "class StopLocation:\n",
    "    def __init__(self, stop_id, stop_name):\n",
    "        self.stop_id = stop_id\n",
    "        self.stop_name = stop_name\n",
    "\n",
    "class RealTimePosition:\n",
    "    def __init__(self, bus_id):\n",
    "        self.bus_id = bus_id\n"
   ]
  }
 ],
 "metadata": {
  "kernelspec": {
   "display_name": "substack",
   "language": "python",
   "name": "python3"
  },
  "language_info": {
   "codemirror_mode": {
    "name": "ipython",
    "version": 3
   },
   "file_extension": ".py",
   "mimetype": "text/x-python",
   "name": "python",
   "nbconvert_exporter": "python",
   "pygments_lexer": "ipython3",
   "version": "3.11.5"
  },
  "orig_nbformat": 4
 },
 "nbformat": 4,
 "nbformat_minor": 2
}
